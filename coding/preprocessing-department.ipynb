{
 "cells": [
  {
   "cell_type": "code",
   "execution_count": 1,
   "id": "f9539d6c",
   "metadata": {},
   "outputs": [],
   "source": [
    "import numpy as np\n",
    "import pandas as pd"
   ]
  },
  {
   "cell_type": "code",
   "execution_count": null,
   "id": "5035fa1b",
   "metadata": {},
   "outputs": [],
   "source": []
  },
  {
   "cell_type": "code",
   "execution_count": 2,
   "id": "dd686882",
   "metadata": {},
   "outputs": [
    {
     "name": "stdout",
     "output_type": "stream",
     "text": [
      "Requirement already satisfied: openpyxl in c:\\users\\arifurk\\myenv\\lib\\site-packages (3.0.10)\n",
      "Requirement already satisfied: et-xmlfile in c:\\users\\arifurk\\myenv\\lib\\site-packages (from openpyxl) (1.1.0)\n",
      "Note: you may need to restart the kernel to use updated packages.\n"
     ]
    },
    {
     "name": "stderr",
     "output_type": "stream",
     "text": [
      "\n",
      "[notice] A new release of pip available: 22.2.2 -> 22.3\n",
      "[notice] To update, run: python.exe -m pip install --upgrade pip\n"
     ]
    }
   ],
   "source": [
    "pip install openpyxl"
   ]
  },
  {
   "cell_type": "code",
   "execution_count": 3,
   "id": "b82f3986",
   "metadata": {},
   "outputs": [],
   "source": [
    "df=pd.read_excel('department.xlsx')"
   ]
  },
  {
   "cell_type": "code",
   "execution_count": 4,
   "id": "8cadd23d",
   "metadata": {},
   "outputs": [
    {
     "data": {
      "text/html": [
       "<div>\n",
       "<style scoped>\n",
       "    .dataframe tbody tr th:only-of-type {\n",
       "        vertical-align: middle;\n",
       "    }\n",
       "\n",
       "    .dataframe tbody tr th {\n",
       "        vertical-align: top;\n",
       "    }\n",
       "\n",
       "    .dataframe thead th {\n",
       "        text-align: right;\n",
       "    }\n",
       "</style>\n",
       "<table border=\"1\" class=\"dataframe\">\n",
       "  <thead>\n",
       "    <tr style=\"text-align: right;\">\n",
       "      <th></th>\n",
       "      <th>DEPARTMENT_NO</th>\n",
       "      <th>DEPARTMENT_NAME</th>\n",
       "    </tr>\n",
       "  </thead>\n",
       "  <tbody>\n",
       "    <tr>\n",
       "      <th>0</th>\n",
       "      <td>1019</td>\n",
       "      <td>ENT &amp; Head-Neck Surgery</td>\n",
       "    </tr>\n",
       "    <tr>\n",
       "      <th>1</th>\n",
       "      <td>4000309</td>\n",
       "      <td>Dermatology</td>\n",
       "    </tr>\n",
       "    <tr>\n",
       "      <th>2</th>\n",
       "      <td>4000252</td>\n",
       "      <td>Oncology</td>\n",
       "    </tr>\n",
       "    <tr>\n",
       "      <th>3</th>\n",
       "      <td>4000309</td>\n",
       "      <td>Dermatology</td>\n",
       "    </tr>\n",
       "    <tr>\n",
       "      <th>4</th>\n",
       "      <td>4000321</td>\n",
       "      <td>Pediatrics &amp; Neonatology</td>\n",
       "    </tr>\n",
       "    <tr>\n",
       "      <th>...</th>\n",
       "      <td>...</td>\n",
       "      <td>...</td>\n",
       "    </tr>\n",
       "    <tr>\n",
       "      <th>13895</th>\n",
       "      <td>4000321</td>\n",
       "      <td>Pediatrics &amp; Neonatology</td>\n",
       "    </tr>\n",
       "    <tr>\n",
       "      <th>13896</th>\n",
       "      <td>4000290</td>\n",
       "      <td>General Surgery</td>\n",
       "    </tr>\n",
       "    <tr>\n",
       "      <th>13897</th>\n",
       "      <td>4000252</td>\n",
       "      <td>Oncology</td>\n",
       "    </tr>\n",
       "    <tr>\n",
       "      <th>13898</th>\n",
       "      <td>4000008</td>\n",
       "      <td>Neurology</td>\n",
       "    </tr>\n",
       "    <tr>\n",
       "      <th>13899</th>\n",
       "      <td>4000008</td>\n",
       "      <td>Neurology</td>\n",
       "    </tr>\n",
       "  </tbody>\n",
       "</table>\n",
       "<p>13900 rows × 2 columns</p>\n",
       "</div>"
      ],
      "text/plain": [
       "       DEPARTMENT_NO           DEPARTMENT_NAME\n",
       "0               1019   ENT & Head-Neck Surgery\n",
       "1            4000309               Dermatology\n",
       "2            4000252                  Oncology\n",
       "3            4000309               Dermatology\n",
       "4            4000321  Pediatrics & Neonatology\n",
       "...              ...                       ...\n",
       "13895        4000321  Pediatrics & Neonatology\n",
       "13896        4000290           General Surgery\n",
       "13897        4000252                  Oncology\n",
       "13898        4000008                 Neurology\n",
       "13899        4000008                 Neurology\n",
       "\n",
       "[13900 rows x 2 columns]"
      ]
     },
     "execution_count": 4,
     "metadata": {},
     "output_type": "execute_result"
    }
   ],
   "source": [
    "df"
   ]
  },
  {
   "cell_type": "code",
   "execution_count": 30,
   "id": "d292fc0d",
   "metadata": {
    "scrolled": true
   },
   "outputs": [
    {
     "ename": "SyntaxError",
     "evalue": "invalid syntax (3114223458.py, line 1)",
     "output_type": "error",
     "traceback": [
      "\u001b[1;36m  Input \u001b[1;32mIn [30]\u001b[1;36m\u001b[0m\n\u001b[1;33m    print(pd.unique(record['continent']))df[DEPARTMENT_NO].unique()\u001b[0m\n\u001b[1;37m                                         ^\u001b[0m\n\u001b[1;31mSyntaxError\u001b[0m\u001b[1;31m:\u001b[0m invalid syntax\n"
     ]
    }
   ],
   "source": [
    "print(pd.unique(record['continent']))"
   ]
  },
  {
   "cell_type": "code",
   "execution_count": 31,
   "id": "4ae34327",
   "metadata": {},
   "outputs": [
    {
     "name": "stdout",
     "output_type": "stream",
     "text": [
      "[   1019 4000309 4000252 4000321 4000357    1162 4000317    1066 4000327\n",
      " 4000288 4000328    1068 4000255 4000008 4000308 4000250 4000361 2000004\n",
      " 4000290    1028 4000381    1176    1158    1010]\n"
     ]
    }
   ],
   "source": [
    "print(df['DEPARTMENT_NO'].unique())"
   ]
  },
  {
   "cell_type": "code",
   "execution_count": 32,
   "id": "49651eb6",
   "metadata": {},
   "outputs": [
    {
     "data": {
      "text/html": [
       "<div>\n",
       "<style scoped>\n",
       "    .dataframe tbody tr th:only-of-type {\n",
       "        vertical-align: middle;\n",
       "    }\n",
       "\n",
       "    .dataframe tbody tr th {\n",
       "        vertical-align: top;\n",
       "    }\n",
       "\n",
       "    .dataframe thead th {\n",
       "        text-align: right;\n",
       "    }\n",
       "</style>\n",
       "<table border=\"1\" class=\"dataframe\">\n",
       "  <thead>\n",
       "    <tr style=\"text-align: right;\">\n",
       "      <th></th>\n",
       "      <th>DEPARTMENT_NO</th>\n",
       "      <th>DEPARTMENT_NAME</th>\n",
       "    </tr>\n",
       "  </thead>\n",
       "  <tbody>\n",
       "    <tr>\n",
       "      <th>0</th>\n",
       "      <td>1019</td>\n",
       "      <td>ENT &amp; Head-Neck Surgery</td>\n",
       "    </tr>\n",
       "    <tr>\n",
       "      <th>1</th>\n",
       "      <td>4000309</td>\n",
       "      <td>Dermatology</td>\n",
       "    </tr>\n",
       "    <tr>\n",
       "      <th>2</th>\n",
       "      <td>4000252</td>\n",
       "      <td>Oncology</td>\n",
       "    </tr>\n",
       "    <tr>\n",
       "      <th>3</th>\n",
       "      <td>4000309</td>\n",
       "      <td>Dermatology</td>\n",
       "    </tr>\n",
       "    <tr>\n",
       "      <th>4</th>\n",
       "      <td>4000321</td>\n",
       "      <td>Pediatrics &amp; Neonatology</td>\n",
       "    </tr>\n",
       "    <tr>\n",
       "      <th>...</th>\n",
       "      <td>...</td>\n",
       "      <td>...</td>\n",
       "    </tr>\n",
       "    <tr>\n",
       "      <th>13895</th>\n",
       "      <td>4000321</td>\n",
       "      <td>Pediatrics &amp; Neonatology</td>\n",
       "    </tr>\n",
       "    <tr>\n",
       "      <th>13896</th>\n",
       "      <td>4000290</td>\n",
       "      <td>General Surgery</td>\n",
       "    </tr>\n",
       "    <tr>\n",
       "      <th>13897</th>\n",
       "      <td>4000252</td>\n",
       "      <td>Oncology</td>\n",
       "    </tr>\n",
       "    <tr>\n",
       "      <th>13898</th>\n",
       "      <td>4000008</td>\n",
       "      <td>Neurology</td>\n",
       "    </tr>\n",
       "    <tr>\n",
       "      <th>13899</th>\n",
       "      <td>4000008</td>\n",
       "      <td>Neurology</td>\n",
       "    </tr>\n",
       "  </tbody>\n",
       "</table>\n",
       "<p>13900 rows × 2 columns</p>\n",
       "</div>"
      ],
      "text/plain": [
       "       DEPARTMENT_NO           DEPARTMENT_NAME\n",
       "0               1019   ENT & Head-Neck Surgery\n",
       "1            4000309               Dermatology\n",
       "2            4000252                  Oncology\n",
       "3            4000309               Dermatology\n",
       "4            4000321  Pediatrics & Neonatology\n",
       "...              ...                       ...\n",
       "13895        4000321  Pediatrics & Neonatology\n",
       "13896        4000290           General Surgery\n",
       "13897        4000252                  Oncology\n",
       "13898        4000008                 Neurology\n",
       "13899        4000008                 Neurology\n",
       "\n",
       "[13900 rows x 2 columns]"
      ]
     },
     "execution_count": 32,
     "metadata": {},
     "output_type": "execute_result"
    }
   ],
   "source": [
    "df"
   ]
  },
  {
   "cell_type": "code",
   "execution_count": 5,
   "id": "f4d0c641",
   "metadata": {},
   "outputs": [],
   "source": [
    "dups_shape = df.pivot_table(columns=['DEPARTMENT_NO'], aggfunc='size')"
   ]
  },
  {
   "cell_type": "code",
   "execution_count": 6,
   "id": "bcb87ad7",
   "metadata": {
    "scrolled": true
   },
   "outputs": [
    {
     "data": {
      "text/plain": [
       "DEPARTMENT_NO\n",
       "1010         28\n",
       "1019        404\n",
       "1028        315\n",
       "1066        560\n",
       "1068        364\n",
       "1158         32\n",
       "1162       1558\n",
       "1176         82\n",
       "2000004      39\n",
       "4000008    1768\n",
       "4000250     579\n",
       "4000252     862\n",
       "4000255     887\n",
       "4000288      19\n",
       "4000290     145\n",
       "4000308      19\n",
       "4000309    1262\n",
       "4000317    1334\n",
       "4000321    1882\n",
       "4000327     131\n",
       "4000328     976\n",
       "4000357     456\n",
       "4000361     153\n",
       "4000381      45\n",
       "dtype: int64"
      ]
     },
     "execution_count": 6,
     "metadata": {},
     "output_type": "execute_result"
    }
   ],
   "source": [
    "dups_shape"
   ]
  },
  {
   "cell_type": "code",
   "execution_count": 43,
   "id": "7f41698e",
   "metadata": {},
   "outputs": [],
   "source": [
    "df = df.drop_duplicates(subset=['DEPARTMENT_NO','DEPARTMENT_NAME'], keep='last')"
   ]
  },
  {
   "cell_type": "code",
   "execution_count": 44,
   "id": "ecfe2653",
   "metadata": {},
   "outputs": [
    {
     "data": {
      "text/html": [
       "<div>\n",
       "<style scoped>\n",
       "    .dataframe tbody tr th:only-of-type {\n",
       "        vertical-align: middle;\n",
       "    }\n",
       "\n",
       "    .dataframe tbody tr th {\n",
       "        vertical-align: top;\n",
       "    }\n",
       "\n",
       "    .dataframe thead th {\n",
       "        text-align: right;\n",
       "    }\n",
       "</style>\n",
       "<table border=\"1\" class=\"dataframe\">\n",
       "  <thead>\n",
       "    <tr style=\"text-align: right;\">\n",
       "      <th></th>\n",
       "      <th>DEPARTMENT_NO</th>\n",
       "      <th>DEPARTMENT_NAME</th>\n",
       "    </tr>\n",
       "  </thead>\n",
       "  <tbody>\n",
       "    <tr>\n",
       "      <th>11791</th>\n",
       "      <td>4000288</td>\n",
       "      <td>Plastic &amp; Aesthetic Surgery</td>\n",
       "    </tr>\n",
       "    <tr>\n",
       "      <th>13342</th>\n",
       "      <td>4000308</td>\n",
       "      <td>Dental and Maxillofacial Center</td>\n",
       "    </tr>\n",
       "    <tr>\n",
       "      <th>13508</th>\n",
       "      <td>2000004</td>\n",
       "      <td>Cardiac Surgery</td>\n",
       "    </tr>\n",
       "    <tr>\n",
       "      <th>13744</th>\n",
       "      <td>1158</td>\n",
       "      <td>Orthopedics</td>\n",
       "    </tr>\n",
       "    <tr>\n",
       "      <th>13775</th>\n",
       "      <td>4000361</td>\n",
       "      <td>Rheumatology</td>\n",
       "    </tr>\n",
       "    <tr>\n",
       "      <th>13804</th>\n",
       "      <td>4000381</td>\n",
       "      <td>Surgical Oncology</td>\n",
       "    </tr>\n",
       "    <tr>\n",
       "      <th>13810</th>\n",
       "      <td>1176</td>\n",
       "      <td>Pediatrics Surgery</td>\n",
       "    </tr>\n",
       "    <tr>\n",
       "      <th>13839</th>\n",
       "      <td>1019</td>\n",
       "      <td>ENT &amp; Head-Neck Surgery</td>\n",
       "    </tr>\n",
       "    <tr>\n",
       "      <th>13841</th>\n",
       "      <td>1068</td>\n",
       "      <td>Urology</td>\n",
       "    </tr>\n",
       "    <tr>\n",
       "      <th>13866</th>\n",
       "      <td>4000327</td>\n",
       "      <td>Vascular Surgery</td>\n",
       "    </tr>\n",
       "    <tr>\n",
       "      <th>13870</th>\n",
       "      <td>4000357</td>\n",
       "      <td>Colorectal Surgery</td>\n",
       "    </tr>\n",
       "    <tr>\n",
       "      <th>13874</th>\n",
       "      <td>4000309</td>\n",
       "      <td>Dermatology</td>\n",
       "    </tr>\n",
       "    <tr>\n",
       "      <th>13877</th>\n",
       "      <td>4000328</td>\n",
       "      <td>Respiratory Medicine</td>\n",
       "    </tr>\n",
       "    <tr>\n",
       "      <th>13879</th>\n",
       "      <td>1066</td>\n",
       "      <td>GHPD</td>\n",
       "    </tr>\n",
       "    <tr>\n",
       "      <th>13882</th>\n",
       "      <td>4000255</td>\n",
       "      <td>Nephrology</td>\n",
       "    </tr>\n",
       "    <tr>\n",
       "      <th>13885</th>\n",
       "      <td>1028</td>\n",
       "      <td>Haematology</td>\n",
       "    </tr>\n",
       "    <tr>\n",
       "      <th>13886</th>\n",
       "      <td>1162</td>\n",
       "      <td>Cardiology</td>\n",
       "    </tr>\n",
       "    <tr>\n",
       "      <th>13887</th>\n",
       "      <td>4000317</td>\n",
       "      <td>Obstetrics and Gynaecology</td>\n",
       "    </tr>\n",
       "    <tr>\n",
       "      <th>13890</th>\n",
       "      <td>4000250</td>\n",
       "      <td>Internal Medicine</td>\n",
       "    </tr>\n",
       "    <tr>\n",
       "      <th>13894</th>\n",
       "      <td>1010</td>\n",
       "      <td>Endocrinology</td>\n",
       "    </tr>\n",
       "    <tr>\n",
       "      <th>13895</th>\n",
       "      <td>4000321</td>\n",
       "      <td>Pediatrics &amp; Neonatology</td>\n",
       "    </tr>\n",
       "    <tr>\n",
       "      <th>13896</th>\n",
       "      <td>4000290</td>\n",
       "      <td>General Surgery</td>\n",
       "    </tr>\n",
       "    <tr>\n",
       "      <th>13897</th>\n",
       "      <td>4000252</td>\n",
       "      <td>Oncology</td>\n",
       "    </tr>\n",
       "    <tr>\n",
       "      <th>13899</th>\n",
       "      <td>4000008</td>\n",
       "      <td>Neurology</td>\n",
       "    </tr>\n",
       "  </tbody>\n",
       "</table>\n",
       "</div>"
      ],
      "text/plain": [
       "       DEPARTMENT_NO                  DEPARTMENT_NAME\n",
       "11791        4000288      Plastic & Aesthetic Surgery\n",
       "13342        4000308  Dental and Maxillofacial Center\n",
       "13508        2000004                  Cardiac Surgery\n",
       "13744           1158                      Orthopedics\n",
       "13775        4000361                     Rheumatology\n",
       "13804        4000381                Surgical Oncology\n",
       "13810           1176               Pediatrics Surgery\n",
       "13839           1019          ENT & Head-Neck Surgery\n",
       "13841           1068                          Urology\n",
       "13866        4000327                 Vascular Surgery\n",
       "13870        4000357               Colorectal Surgery\n",
       "13874        4000309                      Dermatology\n",
       "13877        4000328             Respiratory Medicine\n",
       "13879           1066                             GHPD\n",
       "13882        4000255                       Nephrology\n",
       "13885           1028                      Haematology\n",
       "13886           1162                       Cardiology\n",
       "13887        4000317       Obstetrics and Gynaecology\n",
       "13890        4000250                Internal Medicine\n",
       "13894           1010                    Endocrinology\n",
       "13895        4000321         Pediatrics & Neonatology\n",
       "13896        4000290                  General Surgery\n",
       "13897        4000252                         Oncology\n",
       "13899        4000008                        Neurology"
      ]
     },
     "execution_count": 44,
     "metadata": {},
     "output_type": "execute_result"
    }
   ],
   "source": [
    "df"
   ]
  },
  {
   "cell_type": "code",
   "execution_count": 39,
   "id": "c349f508",
   "metadata": {},
   "outputs": [],
   "source": [
    "df.to_csv('department.csv')"
   ]
  },
  {
   "cell_type": "code",
   "execution_count": null,
   "id": "18664c98",
   "metadata": {},
   "outputs": [],
   "source": []
  }
 ],
 "metadata": {
  "kernelspec": {
   "display_name": "Python 3 (ipykernel)",
   "language": "python",
   "name": "python3"
  },
  "language_info": {
   "codemirror_mode": {
    "name": "ipython",
    "version": 3
   },
   "file_extension": ".py",
   "mimetype": "text/x-python",
   "name": "python",
   "nbconvert_exporter": "python",
   "pygments_lexer": "ipython3",
   "version": "3.10.6"
  }
 },
 "nbformat": 4,
 "nbformat_minor": 5
}
