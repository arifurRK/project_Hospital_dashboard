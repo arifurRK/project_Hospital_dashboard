{
 "cells": [
  {
   "cell_type": "code",
   "execution_count": null,
   "id": "cd04a34f",
   "metadata": {},
   "outputs": [],
   "source": [
    "# olap query example\n",
    "con = PostgresConnection().getConnection()\n",
    "#curr = con.cursor()\n",
    "select_stmts=\"\"\"SELECT time_dim.year,SUM(fact_table.total_price) \n",
    "FROM ecomdb_schema.fact_table \n",
    "JOIN ecomdb_schema.time_dim ON\n",
    "time_dim.time_key = fact_table.time_key \n",
    "GROUP BY CUBE(time_dim.year) \n",
    "ORDER BY time_dim.year\"\"\"\n",
    "cur = con.cursor()\n",
    "cur.execute(select_stmts)\n",
    "records= cur.fetchall()\n",
    "records\n",
    "year_wise_total_sale_price_df=pd.DataFrame(list(records), columns=['Year','Total sales'])\n",
    "year_wise_total_sale_price_df\n",
    "year_wise_total_sale_price_df=year_wise_total_sale_price_df.dropna()\n",
    "year_wise_total_sale_price_df"
   ]
  },
  {
   "cell_type": "code",
   "execution_count": null,
   "id": "3fb09b25",
   "metadata": {},
   "outputs": [],
   "source": [
    "#day wise sales\n",
    "select_stmts=\"\"\"SELECT DAY,SUM(CONSULT_FEE) \n",
    "FROM hospital.bill_info \n",
    "GROUP BY CUBE(DAY) \n",
    "ORDER BY CONSULT_FEE\"\"\""
   ]
  },
  {
   "cell_type": "code",
   "execution_count": null,
   "id": "436800b2",
   "metadata": {},
   "outputs": [],
   "source": [
    "select_stmts=\"\"\"SELECT DAY,DEPARTMENT_NO,SUM(CONSULT_FEE) \n",
    "FROM hospital.bill_info \n",
    "GROUP BY CUBE(DAY,DEPARTMENT_NO) \n",
    "ORDER BY CONSULT_FEE\"\"\""
   ]
  },
  {
   "cell_type": "code",
   "execution_count": null,
   "id": "668a87da",
   "metadata": {},
   "outputs": [],
   "source": [
    "#month wise sales\n",
    "select_stmts=\"\"\"SELECT MONTH,SUM(CONSULT_FEE) \n",
    "FROM hospital.bill_info \n",
    "GROUP BY CUBE(MONTH) \n",
    "ORDER BY CONSULT_FEE\"\"\""
   ]
  },
  {
   "cell_type": "code",
   "execution_count": null,
   "id": "2f4c160d",
   "metadata": {},
   "outputs": [],
   "source": [
    "#day wise patients count\n",
    "select_stmts=\"\"\"SELECT DAY,COUNT(APPOINT_NO) \n",
    "FROM hospital.bill_info \n",
    "GROUP BY CUBE(DAY) \n",
    "ORDER BY APPOINT_NO\"\"\""
   ]
  }
 ],
 "metadata": {
  "kernelspec": {
   "display_name": "Python 3 (ipykernel)",
   "language": "python",
   "name": "python3"
  },
  "language_info": {
   "codemirror_mode": {
    "name": "ipython",
    "version": 3
   },
   "file_extension": ".py",
   "mimetype": "text/x-python",
   "name": "python",
   "nbconvert_exporter": "python",
   "pygments_lexer": "ipython3",
   "version": "3.10.6"
  }
 },
 "nbformat": 4,
 "nbformat_minor": 5
}
